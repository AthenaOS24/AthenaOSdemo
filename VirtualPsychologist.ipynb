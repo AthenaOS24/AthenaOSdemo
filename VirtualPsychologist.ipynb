{
  "nbformat": 4,
  "nbformat_minor": 0,
  "metadata": {
    "colab": {
      "provenance": []
    },
    "kernelspec": {
      "name": "python3",
      "display_name": "Python 3"
    },
    "language_info": {
      "name": "python"
    }
  },
  "cells": [
    {
      "cell_type": "code",
      "execution_count": 10,
      "metadata": {
        "colab": {
          "base_uri": "https://localhost:8080/",
          "height": 1000
        },
        "id": "-2A7yBF0_vYa",
        "outputId": "15da8c65-58d4-4f44-cb58-30e15216b032"
      },
      "outputs": [
        {
          "output_type": "stream",
          "name": "stdout",
          "text": [
            "Loading tokenizer and model (Flan-T5)...\n",
            "Processing empathetic dialogues dataset...\n",
            "Loading empathetic dialogues dataset...\n",
            "Processing batch 1/10...\n",
            "Processing batch 2/10...\n",
            "Processing batch 3/10...\n",
            "Processing batch 4/10...\n",
            "Processing batch 5/10...\n",
            "Processing batch 6/10...\n",
            "Processing batch 7/10...\n",
            "Processing batch 8/10...\n",
            "Processing batch 9/10...\n",
            "Processing batch 10/10...\n",
            "✅ Loaded 2000 examples from empathetic dataset\n",
            "Processing mental health dataset...\n",
            "Loading mental health counseling dataset...\n",
            "Processing batch 1/10...\n",
            "Processing batch 2/10...\n",
            "Processing batch 3/10...\n",
            "Processing batch 4/10...\n",
            "Processing batch 5/10...\n",
            "Processing batch 6/10...\n",
            "Processing batch 7/10...\n",
            "Processing batch 8/10...\n",
            "Processing batch 9/10...\n",
            "Processing batch 10/10...\n",
            "✅ Loaded 2000 examples from mental health dataset\n",
            "🧠 Combined dataset has 4000 examples\n",
            "Running Gradio in a Colab notebook requires sharing enabled. Automatically setting `share=True` (you can turn this off by setting `share=False` in `launch()` explicitly).\n",
            "\n",
            "Colab notebook detected. This cell will run indefinitely so that you can see errors and logs. To turn off, set debug=False in launch().\n",
            "* Running on public URL: https://63b14eec310dd22923.gradio.live\n",
            "\n",
            "This share link expires in 72 hours. For free permanent hosting and GPU upgrades, run `gradio deploy` from the terminal in the working directory to deploy to Hugging Face Spaces (https://huggingface.co/spaces)\n"
          ]
        },
        {
          "output_type": "display_data",
          "data": {
            "text/plain": [
              "<IPython.core.display.HTML object>"
            ],
            "text/html": [
              "<div><iframe src=\"https://63b14eec310dd22923.gradio.live\" width=\"100%\" height=\"500\" allow=\"autoplay; camera; microphone; clipboard-read; clipboard-write;\" frameborder=\"0\" allowfullscreen></iframe></div>"
            ]
          },
          "metadata": {}
        },
        {
          "output_type": "stream",
          "name": "stdout",
          "text": [
            "Keyboard interruption in main thread... closing server.\n",
            "Killing tunnel 127.0.0.1:7860 <> https://63b14eec310dd22923.gradio.live\n"
          ]
        },
        {
          "output_type": "execute_result",
          "data": {
            "text/plain": []
          },
          "metadata": {},
          "execution_count": 10
        }
      ],
      "source": [
        "# Install required packages\n",
        "!pip install transformers accelerate datasets gradio huggingface_hub --quiet\n",
        "\n",
        "# Suppress tokenizer warnings (optional)\n",
        "import transformers\n",
        "transformers.logging.set_verbosity_error()\n",
        "\n",
        "import torch\n",
        "import gc\n",
        "import gradio as gr\n",
        "from transformers import AutoTokenizer, AutoModelForSeq2SeqLM, pipeline\n",
        "from datasets import load_dataset\n",
        "from itertools import chain\n",
        "import pandas as pd\n",
        "\n",
        "# ✅ Load public open-access FLAN-T5 model\n",
        "print(\"Loading tokenizer and model (Flan-T5)...\")\n",
        "tokenizer = AutoTokenizer.from_pretrained(\"google/flan-t5-large\")\n",
        "model = AutoModelForSeq2SeqLM.from_pretrained(\"google/flan-t5-large\", device_map=\"auto\")\n",
        "\n",
        "pipe = pipeline(\n",
        "    \"text2text-generation\",\n",
        "    model=model,\n",
        "    tokenizer=tokenizer\n",
        ")\n",
        "\n",
        "gc.collect()\n",
        "\n",
        "# Preprocessing empathetic dataset\n",
        "def process_empathetic_dataset(batch_size=200):\n",
        "    print(\"Loading empathetic dialogues dataset...\")\n",
        "    dataset = load_dataset(\"Estwld/empathetic_dialogues_llm\", split=\"train[:2000]\")\n",
        "    dataset = list(dataset)\n",
        "    processed_data = []\n",
        "\n",
        "    for i in range(0, len(dataset), batch_size):\n",
        "        print(f\"Processing batch {i//batch_size + 1}/{(len(dataset)+batch_size-1)//batch_size}...\")\n",
        "        batch = dataset[i:i+batch_size]\n",
        "\n",
        "        for example in batch:\n",
        "            if isinstance(example, dict):\n",
        "                input_text = f\"Emotion: {example['emotion']}. Situation: {example['situation']}. How should a therapist respond empathetically?\"\n",
        "                target_text = next((conv['content'] for conv in example['conversations'] if conv['role'] == 'assistant'), \"[No response available]\")\n",
        "                processed_data.append({\"input_text\": input_text, \"target_text\": target_text})\n",
        "\n",
        "        gc.collect()\n",
        "\n",
        "    return processed_data\n",
        "\n",
        "# Preprocessing mental health dataset\n",
        "def process_mental_health_dataset(batch_size=200):\n",
        "    print(\"Loading mental health counseling dataset...\")\n",
        "    dataset = load_dataset(\"Amod/mental_health_counseling_conversations\", split=\"train[:2000]\")\n",
        "    dataset = list(dataset)\n",
        "    processed_data = []\n",
        "\n",
        "    for i in range(0, len(dataset), batch_size):\n",
        "        print(f\"Processing batch {i//batch_size + 1}/{(len(dataset)+batch_size-1)//batch_size}...\")\n",
        "        batch = dataset[i:i+batch_size]\n",
        "\n",
        "        for example in batch:\n",
        "            if isinstance(example, dict):\n",
        "                input_text = f\"User: {example['Context']}. Respond empathetically as a therapist.\"\n",
        "                target_text = example['Response']\n",
        "                processed_data.append({\"input_text\": input_text, \"target_text\": target_text})\n",
        "\n",
        "        gc.collect()\n",
        "\n",
        "    return processed_data\n",
        "\n",
        "# Load and preprocess datasets\n",
        "print(\"Processing empathetic dialogues dataset...\")\n",
        "empathetic_data = process_empathetic_dataset()\n",
        "print(f\"✅ Loaded {len(empathetic_data)} examples from empathetic dataset\")\n",
        "\n",
        "print(\"Processing mental health dataset...\")\n",
        "mental_health_data = process_mental_health_dataset()\n",
        "print(f\"✅ Loaded {len(mental_health_data)} examples from mental health dataset\")\n",
        "\n",
        "# Combine datasets\n",
        "combined_dataset = list(chain(empathetic_data, mental_health_data))\n",
        "del empathetic_data, mental_health_data\n",
        "gc.collect()\n",
        "\n",
        "print(f\"🧠 Combined dataset has {len(combined_dataset)} examples\")\n",
        "\n",
        "# Test function with enhanced prompts\n",
        "def test_virtual_psychologist(input_query, max_length=200):\n",
        "    input_text = f\"User: {input_query}. Respond empathetically as a therapist.\"\n",
        "    output = pipe(\n",
        "        input_text,\n",
        "        max_length=max_length,\n",
        "        do_sample=True,\n",
        "        temperature=0.7,\n",
        "        top_p=0.9,\n",
        "        num_return_sequences=1\n",
        "    )\n",
        "    return output[0]['generated_text'].strip()\n",
        "\n",
        "# ✅ Gradio Interface\n",
        "def chat_with_therapist(user_input):\n",
        "    return test_virtual_psychologist(user_input)\n",
        "\n",
        "interface = gr.Interface(\n",
        "    fn=chat_with_therapist,\n",
        "    inputs=\"text\",\n",
        "    outputs=\"text\",\n",
        "    title=\"🧠 Virtual Therapist\",\n",
        "    description=\"Chat with an AI therapist trained on empathetic and mental health dialogues.\"\n",
        ")\n",
        "\n",
        "# 🚀 Launch the Gradio app\n",
        "interface.launch(debug=True)"
      ]
    }
  ]
}